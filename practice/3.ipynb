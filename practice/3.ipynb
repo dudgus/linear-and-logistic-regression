{
 "cells": [
  {
   "cell_type": "markdown",
   "metadata": {},
   "source": [
    "# Problem $#3$ Linear Regression\n",
    "## Proposed TensorFlow model y = W*ln(x) + b"
   ]
  },
  {
   "cell_type": "code",
   "execution_count": 1,
   "metadata": {
    "collapsed": true
   },
   "outputs": [],
   "source": [
    "import tensorflow as tf\n",
    "import numpy as np\n",
    "import pandas as pd\n",
    "import matplotlib.pylab as plt\n",
    "%matplotlib inline"
   ]
  },
  {
   "cell_type": "code",
   "execution_count": 2,
   "metadata": {
    "collapsed": false
   },
   "outputs": [],
   "source": [
    "# Parameters of the model\n",
    "W = tf.Variable(0.0, tf.float32)\n",
    "b = tf.Variable(0.0, tf.float32)\n",
    "\n",
    "# Placeholder for feed data\n",
    "x = tf.placeholder(tf.float32)\n",
    "y = tf.placeholder(tf.float32)\n",
    "\n",
    "# Model\n",
    "hypothesis = W * tf.log( x ) + b"
   ]
  },
  {
   "cell_type": "code",
   "execution_count": 3,
   "metadata": {
    "collapsed": false
   },
   "outputs": [
    {
     "data": {
      "text/html": [
       "<div>\n",
       "<table border=\"1\" class=\"dataframe\">\n",
       "  <thead>\n",
       "    <tr style=\"text-align: right;\">\n",
       "      <th></th>\n",
       "      <th>x</th>\n",
       "      <th>y</th>\n",
       "    </tr>\n",
       "  </thead>\n",
       "  <tbody>\n",
       "    <tr>\n",
       "      <th>0</th>\n",
       "      <td>0.318245</td>\n",
       "      <td>-7.988817</td>\n",
       "    </tr>\n",
       "    <tr>\n",
       "      <th>1</th>\n",
       "      <td>1.968337</td>\n",
       "      <td>3.102613</td>\n",
       "    </tr>\n",
       "    <tr>\n",
       "      <th>2</th>\n",
       "      <td>0.345255</td>\n",
       "      <td>-5.933103</td>\n",
       "    </tr>\n",
       "    <tr>\n",
       "      <th>3</th>\n",
       "      <td>0.489693</td>\n",
       "      <td>-14.079348</td>\n",
       "    </tr>\n",
       "    <tr>\n",
       "      <th>4</th>\n",
       "      <td>1.134658</td>\n",
       "      <td>-3.742560</td>\n",
       "    </tr>\n",
       "  </tbody>\n",
       "</table>\n",
       "</div>"
      ],
      "text/plain": [
       "          x          y\n",
       "0  0.318245  -7.988817\n",
       "1  1.968337   3.102613\n",
       "2  0.345255  -5.933103\n",
       "3  0.489693 -14.079348\n",
       "4  1.134658  -3.742560"
      ]
     },
     "execution_count": 3,
     "metadata": {},
     "output_type": "execute_result"
    }
   ],
   "source": [
    "# Load Data\n",
    "data = pd.DataFrame.from_csv('tabla_3.csv')\n",
    "data.head()"
   ]
  },
  {
   "cell_type": "code",
   "execution_count": 4,
   "metadata": {
    "collapsed": false
   },
   "outputs": [
    {
     "data": {
      "image/png": "[encoded data removed]",
      "text/plain": [
       "<matplotlib.figure.Figure at 0x25f040d470>"
      ]
     },
     "metadata": {},
     "output_type": "display_data"
    }
   ],
   "source": [
    "# Graph the input data\n",
    "# Print the input points data\n",
    "plt.scatter(data['x'], data['y'], color='blue')\n",
    "plt.title('Input Data')\n",
    "plt.show()"
   ]
  },
  {
   "cell_type": "markdown",
   "metadata": {
    "collapsed": true
   },
   "source": [
    "### Cost"
   ]
  },
  {
   "cell_type": "code",
   "execution_count": 5,
   "metadata": {
    "collapsed": true
   },
   "outputs": [],
   "source": [
    "cost = tf.reduce_mean(tf.square(hypothesis - y))"
   ]
  },
  {
   "cell_type": "markdown",
   "metadata": {
    "collapsed": false
   },
   "source": [
    "### Minimize"
   ]
  },
  {
   "cell_type": "code",
   "execution_count": 6,
   "metadata": {
    "collapsed": true
   },
   "outputs": [],
   "source": [
    "alpha = tf.Variable(0.001) # Learn rate\n",
    "optimizer = tf.train.GradientDescentOptimizer(alpha)\n",
    "train = optimizer.minimize(cost)"
   ]
  },
  {
   "cell_type": "markdown",
   "metadata": {},
   "source": [
    "### Train"
   ]
  },
  {
   "cell_type": "code",
   "execution_count": 7,
   "metadata": {
    "collapsed": false
   },
   "outputs": [
    {
     "name": "stdout",
     "output_type": "stream",
     "text": [
      "Iteration - Error - W - b\n",
      "0 59.0944 0.0128983 -5.07899e-05\n",
      "100 45.5112 1.17634 0.0303409\n",
      "200 36.44 2.12389 0.113639\n",
      "300 30.2904 2.89854 0.229493\n",
      "400 26.0609 3.53424 0.363372\n",
      "500 23.1126 4.05786 0.50506\n",
      "600 21.032 4.49073 0.64753\n",
      "700 19.5479 4.84986 0.786088\n",
      "800 18.4791 5.14883 0.917738\n",
      "900 17.7033 5.39853 1.0407\n",
      "1000 17.1363 5.60773 1.15408\n",
      "1100 16.7196 5.78354 1.25755\n",
      "1200 16.4121 5.93167 1.35123\n",
      "1300 16.1842 6.05683 1.43548\n",
      "1400 16.0148 6.16282 1.51086\n",
      "1500 15.8887 6.25279 1.578\n",
      "1600 15.7945 6.32932 1.63757\n",
      "1700 15.7242 6.39453 1.69027\n",
      "1800 15.6715 6.45019 1.73675\n",
      "1900 15.6321 6.49779 1.77767\n",
      "2000 15.6025 6.53855 1.81361\n",
      "2100 15.5803 6.57349 1.84513\n",
      "2200 15.5637 6.60348 1.87274\n",
      "2300 15.5512 6.62926 1.89688\n",
      "2400 15.5418 6.65143 1.91797\n",
      "2500 15.5348 6.67051 1.93638\n",
      "2600 15.5295 6.68695 1.95244\n",
      "2700 15.5255 6.70113 1.96643\n",
      "2800 15.5226 6.71336 1.97862\n",
      "2900 15.5203 6.72391 1.98922\n",
      "3000 15.5186 6.73303 1.99845\n",
      "3100 15.5174 6.7409 2.00648\n",
      "3200 15.5164 6.7477 2.01346\n",
      "3300 15.5157 6.75359 2.01952\n",
      "3400 15.5152 6.75868 2.02479\n",
      "3500 15.5148 6.76308 2.02936\n",
      "3600 15.5145 6.76688 2.03333\n",
      "3700 15.5142 6.77018 2.03678\n",
      "3800 15.5141 6.77303 2.03978\n",
      "3900 15.5139 6.7755 2.04238\n",
      "4000 15.5138 6.77764 2.04463\n",
      "4100 15.5138 6.7795 2.04659\n",
      "4200 15.5137 6.7811 2.04829\n",
      "4300 15.5137 6.78249 2.04976\n",
      "4400 15.5136 6.78369 2.05103\n",
      "4500 15.5136 6.78474 2.05214\n",
      "4600 15.5136 6.78564 2.0531\n",
      "4700 15.5136 6.78642 2.05394\n",
      "4800 15.5136 6.7871 2.05466\n",
      "4900 15.5136 6.78769 2.05529\n",
      "5000 15.5136 6.7882 2.05583\n",
      "5100 15.5136 6.78864 2.0563\n",
      "5200 15.5136 6.78902 2.05671\n",
      "5300 15.5136 6.78936 2.05706\n",
      "5400 15.5136 6.78964 2.05737\n",
      "5500 15.5136 6.78989 2.05764\n",
      "5600 15.5136 6.7901 2.05787\n",
      "5700 15.5135 6.79029 2.05807\n",
      "5800 15.5135 6.79045 2.05824\n",
      "5900 15.5135 6.79059 2.05839\n",
      "6000 15.5135 6.79072 2.05852\n",
      "6100 15.5135 6.79081 2.05864\n",
      "6200 15.5135 6.79091 2.05873\n",
      "6300 15.5135 6.791 2.05882\n",
      "6400 15.5135 6.79105 2.05889\n",
      "6500 15.5135 6.7911 2.05896\n",
      "6600 15.5135 6.79115 2.059\n",
      "6700 15.5135 6.7912 2.05905\n",
      "6800 15.5135 6.79124 2.0591\n",
      "6900 15.5135 6.79129 2.05913\n",
      "7000 15.5135 6.79134 2.05916\n",
      "7100 15.5135 6.79134 2.05918\n",
      "7200 15.5135 6.79135 2.05921\n",
      "7300 15.5135 6.79136 2.05923\n",
      "7400 15.5135 6.79136 2.05925\n",
      "7500 15.5135 6.79137 2.05927\n",
      "7600 15.5135 6.79137 2.05927\n",
      "7700 15.5135 6.79137 2.05927\n",
      "7800 15.5135 6.79137 2.05927\n",
      "7900 15.5135 6.79137 2.05927\n"
     ]
    }
   ],
   "source": [
    "# Start all variables after execute nodes\n",
    "init = tf.global_variables_initializer()\n",
    "\n",
    "# Launch the graph\n",
    "session = tf.Session()\n",
    "session.run(init)\n",
    "\n",
    "print('Iteration - Error - W - b')\n",
    "for i in range(8000):\n",
    "    session.run(train, {x:data['x'], y:data['y']})        \n",
    "    if i % 100 == 0:\n",
    "            # Line description: #iteration, error, computed values\n",
    "            print(i, session.run(cost, {x: data['x'], y:data['y']}), session.run(W), session.run(b))\n",
    "    "
   ]
  },
  {
   "cell_type": "markdown",
   "metadata": {
    "collapsed": false
   },
   "source": [
    "### Plot Prediction line & Normalized data"
   ]
  },
  {
   "cell_type": "code",
   "execution_count": 8,
   "metadata": {
    "collapsed": false
   },
   "outputs": [
    {
     "data": {
      "image/png": "[encoded data removed]",
      "text/plain": [
       "<matplotlib.figure.Figure at 0x336b51da20>"
      ]
     },
     "metadata": {},
     "output_type": "display_data"
    }
   ],
   "source": [
    "# Generate points for the model\n",
    "model_x = np.linspace(0, 2.5, 100)\n",
    "model_y = session.run(hypothesis, {x: model_x})\n",
    "\n",
    "# Print the input points data\n",
    "plt.scatter(data['x'], data['y'], color='blue')\n",
    "plt.plot(model_x, model_y, color='green')\n",
    "plt.title('Results: Model & Input Data')\n",
    "plt.show()\n"
   ]
  },
  {
   "cell_type": "code",
   "execution_count": null,
   "metadata": {
    "collapsed": true
   },
   "outputs": [],
   "source": []
  }
 ],
 "metadata": {
  "kernelspec": {
   "display_name": "Python 3",
   "language": "python",
   "name": "python3"
  },
  "language_info": {
   "codemirror_mode": {
    "name": "ipython",
    "version": 3
   },
   "file_extension": ".py",
   "mimetype": "text/x-python",
   "name": "python",
   "nbconvert_exporter": "python",
   "pygments_lexer": "ipython3",
   "version": "3.5.3"
  }
 },
 "nbformat": 4,
 "nbformat_minor": 2
}
