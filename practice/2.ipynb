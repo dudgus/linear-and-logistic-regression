{
 "cells": [
  {
   "cell_type": "markdown",
   "metadata": {
    "deletable": true,
    "editable": true
   },
   "source": [
    "# Problem $#2$ Linear Regression\n",
    "## Proposed model y =  $\\theta$<sub>1</sub>*x + $\\theta$<sub>0</sub>"
   ]
  },
  {
   "cell_type": "markdown",
   "metadata": {
    "deletable": true,
    "editable": true
   },
   "source": [
    "## Imports"
   ]
  },
  {
   "cell_type": "code",
   "execution_count": 1,
   "metadata": {
    "collapsed": true,
    "deletable": true,
    "editable": true
   },
   "outputs": [],
   "source": [
    "import numpy as np\n",
    "import pandas as pd\n",
    "import matplotlib.pyplot as plt\n",
    "% matplotlib inline"
   ]
  },
  {
   "cell_type": "markdown",
   "metadata": {
    "deletable": true,
    "editable": true
   },
   "source": [
    "## Model function"
   ]
  },
  {
   "cell_type": "code",
   "execution_count": 2,
   "metadata": {
    "collapsed": true,
    "deletable": true,
    "editable": true
   },
   "outputs": [],
   "source": [
    "def linear_model(x, theta):\n",
    "    return x.dot(theta[1:]) + theta[0]"
   ]
  },
  {
   "cell_type": "markdown",
   "metadata": {
    "deletable": true,
    "editable": true
   },
   "source": [
    "## Gradien function: $\\nabla J$"
   ]
  },
  {
   "cell_type": "code",
   "execution_count": 3,
   "metadata": {
    "collapsed": true,
    "deletable": true,
    "editable": true
   },
   "outputs": [],
   "source": [
    "def cost_gradient(x, y, model, theta):\n",
    "    grad = np.zeros(len(theta))\n",
    "    for i in range(len(x)):\n",
    "        temp = model(x[i], theta) - y[i]\n",
    "        for j in range(len(theta)):\n",
    "            if j==0:\n",
    "                grad[j] += temp\n",
    "            else:    \n",
    "                grad[j] += temp * x[i][j - 1]\n",
    "    return grad / len(x)"
   ]
  },
  {
   "cell_type": "markdown",
   "metadata": {
    "deletable": true,
    "editable": true
   },
   "source": [
    "## Algoritmo de descenso en gradiente: $\\theta \\leftarrow \\theta - \\alpha \\nabla J$"
   ]
  },
  {
   "cell_type": "code",
   "execution_count": 4,
   "metadata": {
    "collapsed": true,
    "deletable": true,
    "editable": true
   },
   "outputs": [],
   "source": [
    "def gradient_descend(x, y, model, gradient, theta, alpha, epsilon, max_iter):\n",
    "    iter = 0\n",
    "    theta_temp = None\n",
    "    while iter < max_iter:\n",
    "        iter += 1\n",
    "        theta_temp = theta - alpha * gradient(x, y, model, theta)\n",
    "        if (np.fabs(theta - theta_temp)).max() < epsilon:\n",
    "            break\n",
    "        theta = theta_temp\n",
    "    print('Execution Finished on en %d iterations' % iter)\n",
    "    return theta"
   ]
  },
  {
   "cell_type": "markdown",
   "metadata": {
    "deletable": true,
    "editable": true
   },
   "source": [
    "### Loading data"
   ]
  },
  {
   "cell_type": "code",
   "execution_count": 5,
   "metadata": {
    "collapsed": false,
    "deletable": true,
    "editable": true
   },
   "outputs": [
    {
     "data": {
      "text/html": [
       "<div>\n",
       "<table border=\"1\" class=\"dataframe\">\n",
       "  <thead>\n",
       "    <tr style=\"text-align: right;\">\n",
       "      <th></th>\n",
       "      <th>x</th>\n",
       "      <th>y</th>\n",
       "    </tr>\n",
       "  </thead>\n",
       "  <tbody>\n",
       "    <tr>\n",
       "      <th>0</th>\n",
       "      <td>15.714920</td>\n",
       "      <td>2466.580358</td>\n",
       "    </tr>\n",
       "    <tr>\n",
       "      <th>1</th>\n",
       "      <td>24.149574</td>\n",
       "      <td>4072.712900</td>\n",
       "    </tr>\n",
       "    <tr>\n",
       "      <th>2</th>\n",
       "      <td>6.387675</td>\n",
       "      <td>1416.404874</td>\n",
       "    </tr>\n",
       "    <tr>\n",
       "      <th>3</th>\n",
       "      <td>0.447202</td>\n",
       "      <td>174.164638</td>\n",
       "    </tr>\n",
       "    <tr>\n",
       "      <th>4</th>\n",
       "      <td>21.285228</td>\n",
       "      <td>4129.153452</td>\n",
       "    </tr>\n",
       "  </tbody>\n",
       "</table>\n",
       "</div>"
      ],
      "text/plain": [
       "           x            y\n",
       "0  15.714920  2466.580358\n",
       "1  24.149574  4072.712900\n",
       "2   6.387675  1416.404874\n",
       "3   0.447202   174.164638\n",
       "4  21.285228  4129.153452"
      ]
     },
     "execution_count": 5,
     "metadata": {},
     "output_type": "execute_result"
    }
   ],
   "source": [
    "data = pd.DataFrame.from_csv('tabla_2.csv')\n",
    "data.head()"
   ]
  },
  {
   "cell_type": "markdown",
   "metadata": {
    "deletable": true,
    "editable": true
   },
   "source": [
    "### Graph input data"
   ]
  },
  {
   "cell_type": "code",
   "execution_count": 6,
   "metadata": {
    "collapsed": false,
    "deletable": true,
    "editable": true
   },
   "outputs": [
    {
     "data": {
      "text/plain": [
       "<matplotlib.axes._subplots.AxesSubplot at 0xdc0a185c50>"
      ]
     },
     "execution_count": 6,
     "metadata": {},
     "output_type": "execute_result"
    },
    {
     "data": {
      "image/png": "[encoded data removed]",
      "text/plain": [
       "<matplotlib.figure.Figure at 0xdc0a1857f0>"
      ]
     },
     "metadata": {},
     "output_type": "display_data"
    }
   ],
   "source": [
    "data.plot(x='x', y='y', kind='scatter', color='blue')"
   ]
  },
  {
   "cell_type": "markdown",
   "metadata": {
    "deletable": true,
    "editable": true
   },
   "source": [
    "### Normalize data with z-score  z-score: $z=\\frac{x-\\mu}{s}$"
   ]
  },
  {
   "cell_type": "code",
   "execution_count": 7,
   "metadata": {
    "collapsed": false,
    "deletable": true,
    "editable": true
   },
   "outputs": [
    {
     "data": {
      "text/plain": [
       "array([ 0.41474147,  1.73622371, -0.44931441, -1.47139594,  1.78266147,\n",
       "       -0.50456942,  0.97066912, -1.06832107, -1.02043278,  0.94180472,\n",
       "       -1.46563752, -1.29505047, -1.16461916,  0.84262175, -0.8214834 ,\n",
       "       -1.35865775,  0.3913518 ,  0.26129794,  1.52375211,  1.12956372,\n",
       "       -1.88900352, -0.91188522,  1.40982682,  1.00058958, -0.2411348 ,\n",
       "        0.06820924, -0.44766819,  1.52947974, -0.33699402, -1.54672073,\n",
       "        1.33573307, -1.87919945,  0.15721554,  1.13914195,  0.89111145,\n",
       "        1.41689165,  1.15129568,  1.58831678, -0.40233381,  1.62689708,\n",
       "       -0.94331488, -0.19259088,  1.08654169,  1.54468777, -0.93098734,\n",
       "       -0.53210916,  1.64489564, -1.26823055,  1.37424324, -1.41212083,\n",
       "       -0.28426906,  1.87561698,  0.2424552 ,  0.16319415, -0.6055906 ,\n",
       "        0.31511871,  0.85122547,  0.09713319,  1.82554155, -1.35962418,\n",
       "        0.28853036,  1.34813688, -1.18055266,  0.75302424,  1.49359352,\n",
       "        0.3259213 ,  1.41219659,  1.72655529,  1.08131314,  0.70743494,\n",
       "       -0.62941694, -1.13062989, -1.42512476,  0.96316935,  0.72499207,\n",
       "       -0.53207381, -1.21798023, -1.24501554,  0.91725219,  0.8554936 ,\n",
       "       -0.28611393, -0.91099678,  0.77847421, -0.61399241,  0.33972955,\n",
       "       -0.00578218, -1.06398964,  1.96706546,  1.16967781,  0.57116634,\n",
       "        0.83626377, -1.13494459, -0.65508926,  1.45668288, -0.27926884,\n",
       "       -1.28336524, -0.95337123,  0.54696672,  0.54664322, -0.8649319 ,\n",
       "        0.39538277, -0.57363079,  1.06824157, -0.67793539,  1.35706785,\n",
       "       -0.92384471,  0.97947024, -0.38889162, -1.53694864,  1.10253329,\n",
       "       -0.20146268, -0.13851803,  0.13773386,  1.50972913,  0.71213191,\n",
       "       -0.99753747, -1.08356796,  1.41170529, -0.50087762,  0.69049246,\n",
       "        1.33946545,  1.08424143, -1.10026854, -0.28408978, -1.37604784,\n",
       "        0.97428117, -0.43852634,  0.5326014 ,  1.61387105,  0.14628226,\n",
       "       -1.28803534,  1.19205641, -0.33889211,  0.0046793 , -1.32940824,\n",
       "        1.29105859,  1.41520914, -1.12768235,  1.63860198,  0.74759164,\n",
       "       -0.66666926, -0.06331528,  0.76958841, -0.80060106, -0.72476953,\n",
       "        1.00488416, -0.33650468,  1.35241616, -0.54368118, -1.0600518 ,\n",
       "        0.64369559,  0.58254116,  0.29012141,  1.29882308,  0.47266854,\n",
       "        0.56771616,  0.910327  , -0.00567125, -0.52893871, -0.09163203,\n",
       "        0.15634176,  1.33266932,  0.32556604, -0.05825256, -0.01198919,\n",
       "       -1.45848694,  0.88641117,  1.81662855,  1.04035036,  1.06413615,\n",
       "       -1.69737657,  1.0197733 ,  0.88152305,  1.21332254,  1.4640573 ,\n",
       "        1.5641457 ,  0.94463201, -0.01769   ,  0.01424692,  1.32208376,\n",
       "       -0.54718634, -0.1136897 , -0.54447954, -1.06984393, -0.703868  ,\n",
       "        0.38628718,  1.58316373, -0.50048508, -0.95934705, -0.14249372,\n",
       "        1.35459701, -0.09320137,  0.72645665,  0.97514807,  0.91650767,\n",
       "       -1.0229896 , -0.46596375,  0.79579232,  1.14194433, -0.35450317,\n",
       "        0.12957258,  0.31507524, -0.58690008, -0.60631473, -0.21274606,\n",
       "        1.47934831, -0.04360478, -1.83038942,  0.60682658,  0.51135223,\n",
       "        0.84493081,  0.31603255,  1.53512527, -0.84658713,  0.76519051,\n",
       "       -0.56945329, -0.8251996 ,  1.28444198,  0.38528491,  0.9987065 ,\n",
       "       -1.50417499, -1.5604816 , -0.24042269,  1.6740657 , -1.2149198 ,\n",
       "       -0.39691641, -0.31236547,  0.88878959, -0.97527056,  0.20374615,\n",
       "       -1.57006687,  0.5816512 , -0.88468516,  0.80059196, -0.09652174,\n",
       "       -0.57136322,  1.08350269,  0.16108326, -0.99994111,  0.50272186,\n",
       "       -1.18604209, -1.59440113, -1.40957923, -1.09163585, -0.28087084,\n",
       "       -1.49512465, -0.00363427,  0.72254801, -0.81518688,  0.93409307,\n",
       "       -1.38270457,  1.96001475, -0.8743815 , -0.23055708, -0.50941028,\n",
       "       -0.96043138,  0.37999754,  0.30730079, -0.06939356, -0.80365964,\n",
       "       -1.45264345, -0.04105408,  0.54691305, -0.62739212,  1.17925087,\n",
       "        0.47423756,  0.71230927, -0.65809771,  1.18704356,  1.1942034 ,\n",
       "       -0.96172801, -0.105701  , -0.69185907,  1.10403871,  0.49946   ,\n",
       "       -0.69915024,  1.82811397,  0.0786751 ,  1.1094859 ,  1.34755545,\n",
       "        0.315916  ,  0.02097446, -1.53807332,  1.01267072,  1.2449048 ,\n",
       "       -1.62994963,  1.32225414,  0.46186822,  0.40825056,  0.03486447,\n",
       "       -0.50698374, -0.91210058, -0.14838102, -1.07284095, -0.26430041,\n",
       "       -1.10946406,  0.56975067,  0.47805639, -1.30816896,  0.18441073,\n",
       "        1.3202457 ,  0.74978557, -1.05100325, -0.55209711,  1.52412929,\n",
       "       -1.38558519,  0.95148535,  0.27624748,  0.58229027, -1.51800298,\n",
       "       -0.28523734, -0.87761144,  1.17456744, -1.78147133, -0.10366149,\n",
       "       -0.86384222, -0.45709999, -1.44740717, -0.76761848,  0.31915672,\n",
       "        0.78807165,  0.91965116, -1.54693373,  0.99264416, -1.55319235,\n",
       "        0.25818022,  0.90101196, -0.77525839, -1.36182979,  1.91125564,\n",
       "        0.93563109,  1.3194952 ,  0.48541155, -0.48865135, -1.01969001,\n",
       "       -0.55490089,  1.59111811,  0.6801417 , -1.6112212 , -1.55894105,\n",
       "       -0.96537853, -0.22846626,  0.86091609,  0.37637441, -1.4939726 ,\n",
       "       -0.92937755,  1.95527849, -1.05909302,  0.38283558, -0.23131607,\n",
       "       -0.93563951, -1.51248899, -1.32671181,  1.1327927 ,  0.75445908,\n",
       "       -0.11014769,  1.21873766,  0.92632006,  1.28867728, -0.74280532,\n",
       "       -0.73930763, -0.81772545,  0.37740332,  0.41783222,  1.6917951 ,\n",
       "        0.15796602,  1.57256684,  0.64084362,  1.34553945, -1.47731674,\n",
       "       -0.08178344, -1.44924296, -1.44627747, -0.17220402,  0.09148946,\n",
       "        0.88882355, -0.54429391, -1.80992811, -1.51680883,  1.28065065,\n",
       "       -1.11500974,  0.10219344, -1.53764682,  1.06932646,  1.51582169,\n",
       "       -1.44517718,  0.81616902, -0.61517301,  0.5768145 ,  1.30042494,\n",
       "       -0.36373353, -0.1232472 , -0.34337525,  0.89057223, -0.29999646,\n",
       "       -0.06208979, -1.65518043, -1.16380207,  0.92095171, -1.64712832,\n",
       "       -0.25031955,  1.76098046, -0.9628141 , -0.15345091,  0.94337683,\n",
       "        0.42332993, -0.80308024, -0.11611696,  0.19096425, -0.31270873,\n",
       "       -0.75117303, -1.34959641, -0.99219137, -0.5696476 , -0.82844324,\n",
       "        0.60142064, -1.21986738, -1.23667269, -0.88300295, -1.15458349,\n",
       "        1.52894704, -1.61441674, -1.60322925, -0.59560766, -1.27225242,\n",
       "        0.29103845,  0.77711755, -0.57139131, -0.67333526,  0.49783298,\n",
       "        0.86247502, -0.85449301,  0.85187598, -1.36667025,  0.61293085,\n",
       "       -1.0985796 ,  0.56863174, -0.52787644, -1.14890191, -1.03853455,\n",
       "        0.5257806 , -0.66128687, -1.21115093, -0.74250284,  0.47848508,\n",
       "        0.57563005,  1.57703003,  0.22295742,  0.12436733, -0.48668372,\n",
       "       -0.41829843,  1.0550699 , -1.511926  , -0.0149079 ,  0.45639734,\n",
       "        1.39445133,  0.1800843 ,  0.12418596,  1.01506025, -0.90387767,\n",
       "       -0.17355395,  0.38066127,  1.13636333, -1.36745192,  0.69809326,\n",
       "       -0.98613861,  0.6140702 ,  0.23789645, -1.10237085, -0.98560822,\n",
       "       -1.9745064 , -0.32092873, -0.61796836,  1.04037229, -0.93871267,\n",
       "       -0.8616137 , -0.5928388 ,  1.00312672, -1.30329938,  1.73557252,\n",
       "        0.71952808, -0.12479561,  1.40342115, -1.48547975, -0.67291209,\n",
       "       -1.16886037, -1.40179362, -1.24408233, -1.22425897,  1.3831722 ,\n",
       "        0.89030068, -0.75300918,  0.67408548,  1.42095816, -1.41460525,\n",
       "       -0.23054737, -0.32490277, -1.26953298, -0.68395303, -0.16727868])"
      ]
     },
     "execution_count": 7,
     "metadata": {},
     "output_type": "execute_result"
    }
   ],
   "source": [
    "data_x_normalized = (data['x'] - data['x'].mean())/data['x'].std()\n",
    "data_x_normalized = np.array([data_x_normalized]).transpose()\n",
    "\n",
    "data_y_normalized = (data['y'] - data['y'].mean())/data['y'].std()\n",
    "data_y_normalized = data_y_normalized.as_matrix()\n",
    "data_y_normalized"
   ]
  },
  {
   "cell_type": "markdown",
   "metadata": {
    "deletable": true,
    "editable": true
   },
   "source": [
    "### Ejecutando descenso en gradiente sobre los datos normalizados"
   ]
  },
  {
   "cell_type": "code",
   "execution_count": 8,
   "metadata": {
    "collapsed": false,
    "deletable": true,
    "editable": true
   },
   "outputs": [
    {
     "name": "stdout",
     "output_type": "stream",
     "text": [
      "Execution Finished on en 111 iterations\n"
     ]
    },
    {
     "data": {
      "text/plain": [
       "array([ -5.35349542e-17,   9.66156559e-01])"
      ]
     },
     "execution_count": 8,
     "metadata": {},
     "output_type": "execute_result"
    }
   ],
   "source": [
    "theta = np.array([0,0])\n",
    "theta = gradient_descend(data_x_normalized, \n",
    "                         data_y_normalized, \n",
    "                         linear_model, \n",
    "                         cost_gradient, \n",
    "                         theta, \n",
    "                         alpha=0.1, \n",
    "                         epsilon=0.000001, \n",
    "                         max_iter=1000)\n",
    "theta"
   ]
  },
  {
   "cell_type": "markdown",
   "metadata": {
    "deletable": true,
    "editable": true
   },
   "source": [
    "### Prediction aux function"
   ]
  },
  {
   "cell_type": "code",
   "execution_count": 9,
   "metadata": {
    "collapsed": false,
    "deletable": true,
    "editable": true
   },
   "outputs": [],
   "source": [
    "def predecir(x, theta, x_mean, x_std, y_mean, y_std):\n",
    "    z_score = (x - x_mean)/x_std\n",
    "    return linear_model(np.array([z_score]), theta) * y_std + y_mean"
   ]
  },
  {
   "cell_type": "code",
   "execution_count": 10,
   "metadata": {
    "collapsed": false
   },
   "outputs": [
    {
     "data": {
      "text/html": [
       "<div>\n",
       "<table border=\"1\" class=\"dataframe\">\n",
       "  <thead>\n",
       "    <tr style=\"text-align: right;\">\n",
       "      <th></th>\n",
       "      <th>x</th>\n",
       "      <th>y</th>\n",
       "    </tr>\n",
       "  </thead>\n",
       "  <tbody>\n",
       "    <tr>\n",
       "      <th>0</th>\n",
       "      <td>15.714920</td>\n",
       "      <td>2466.580358</td>\n",
       "    </tr>\n",
       "    <tr>\n",
       "      <th>1</th>\n",
       "      <td>24.149574</td>\n",
       "      <td>4072.712900</td>\n",
       "    </tr>\n",
       "    <tr>\n",
       "      <th>2</th>\n",
       "      <td>6.387675</td>\n",
       "      <td>1416.404874</td>\n",
       "    </tr>\n",
       "    <tr>\n",
       "      <th>3</th>\n",
       "      <td>0.447202</td>\n",
       "      <td>174.164638</td>\n",
       "    </tr>\n",
       "    <tr>\n",
       "      <th>4</th>\n",
       "      <td>21.285228</td>\n",
       "      <td>4129.153452</td>\n",
       "    </tr>\n",
       "  </tbody>\n",
       "</table>\n",
       "</div>"
      ],
      "text/plain": [
       "           x            y\n",
       "0  15.714920  2466.580358\n",
       "1  24.149574  4072.712900\n",
       "2   6.387675  1416.404874\n",
       "3   0.447202   174.164638\n",
       "4  21.285228  4129.153452"
      ]
     },
     "execution_count": 10,
     "metadata": {},
     "output_type": "execute_result"
    }
   ],
   "source": [
    "data.head()"
   ]
  },
  {
   "cell_type": "code",
   "execution_count": 11,
   "metadata": {
    "collapsed": false,
    "deletable": true,
    "editable": true
   },
   "outputs": [
    {
     "data": {
      "text/plain": [
       "2856.2866545094348"
      ]
     },
     "execution_count": 11,
     "metadata": {},
     "output_type": "execute_result"
    }
   ],
   "source": [
    "predecir(17.8, theta, data['x'].mean(), data['x'].std(),\n",
    "         data['y'].mean(), data['y'].std())"
   ]
  },
  {
   "cell_type": "markdown",
   "metadata": {
    "deletable": true,
    "editable": true
   },
   "source": [
    "### Comparind input data with predicted values"
   ]
  },
  {
   "cell_type": "code",
   "execution_count": 12,
   "metadata": {
    "collapsed": false,
    "deletable": true,
    "editable": true
   },
   "outputs": [],
   "source": [
    "data['y_predicted'] = [ predecir(i, theta,\n",
    "                                  data['x'].mean(),\n",
    "                                  data['x'].std(),\n",
    "                                  data['y'].mean(),\n",
    "                                  data['y'].std()) for i in data['x']]\n",
    "\n",
    "data['% Error'] = abs( data['y'] - data['y_predicted']) / data['y']*100"
   ]
  },
  {
   "cell_type": "code",
   "execution_count": 13,
   "metadata": {
    "collapsed": false,
    "deletable": true,
    "editable": true
   },
   "outputs": [
    {
     "data": {
      "text/html": [
       "<div>\n",
       "<table border=\"1\" class=\"dataframe\">\n",
       "  <thead>\n",
       "    <tr style=\"text-align: right;\">\n",
       "      <th></th>\n",
       "      <th>x</th>\n",
       "      <th>y</th>\n",
       "      <th>y_predicted</th>\n",
       "      <th>% Error</th>\n",
       "    </tr>\n",
       "  </thead>\n",
       "  <tbody>\n",
       "    <tr>\n",
       "      <th>0</th>\n",
       "      <td>15.714920</td>\n",
       "      <td>2466.580358</td>\n",
       "      <td>2526.332866</td>\n",
       "      <td>2.422484</td>\n",
       "    </tr>\n",
       "    <tr>\n",
       "      <th>1</th>\n",
       "      <td>24.149574</td>\n",
       "      <td>4072.712900</td>\n",
       "      <td>3861.075722</td>\n",
       "      <td>5.196467</td>\n",
       "    </tr>\n",
       "    <tr>\n",
       "      <th>2</th>\n",
       "      <td>6.387675</td>\n",
       "      <td>1416.404874</td>\n",
       "      <td>1050.342005</td>\n",
       "      <td>25.844508</td>\n",
       "    </tr>\n",
       "    <tr>\n",
       "      <th>3</th>\n",
       "      <td>0.447202</td>\n",
       "      <td>174.164638</td>\n",
       "      <td>110.291196</td>\n",
       "      <td>36.674174</td>\n",
       "    </tr>\n",
       "    <tr>\n",
       "      <th>4</th>\n",
       "      <td>21.285228</td>\n",
       "      <td>4129.153452</td>\n",
       "      <td>3407.806928</td>\n",
       "      <td>17.469598</td>\n",
       "    </tr>\n",
       "    <tr>\n",
       "      <th>5</th>\n",
       "      <td>7.493417</td>\n",
       "      <td>1349.247798</td>\n",
       "      <td>1225.320319</td>\n",
       "      <td>9.184931</td>\n",
       "    </tr>\n",
       "    <tr>\n",
       "      <th>6</th>\n",
       "      <td>15.954273</td>\n",
       "      <td>3142.256097</td>\n",
       "      <td>2564.209299</td>\n",
       "      <td>18.395916</td>\n",
       "    </tr>\n",
       "    <tr>\n",
       "      <th>7</th>\n",
       "      <td>2.629316</td>\n",
       "      <td>664.062759</td>\n",
       "      <td>455.600000</td>\n",
       "      <td>31.392027</td>\n",
       "    </tr>\n",
       "    <tr>\n",
       "      <th>8</th>\n",
       "      <td>1.171127</td>\n",
       "      <td>722.266295</td>\n",
       "      <td>224.848753</td>\n",
       "      <td>68.868995</td>\n",
       "    </tr>\n",
       "    <tr>\n",
       "      <th>9</th>\n",
       "      <td>18.363419</td>\n",
       "      <td>3107.174240</td>\n",
       "      <td>2945.444973</td>\n",
       "      <td>5.205027</td>\n",
       "    </tr>\n",
       "    <tr>\n",
       "      <th>10</th>\n",
       "      <td>1.165132</td>\n",
       "      <td>181.163442</td>\n",
       "      <td>223.900002</td>\n",
       "      <td>23.590057</td>\n",
       "    </tr>\n",
       "    <tr>\n",
       "      <th>11</th>\n",
       "      <td>3.554637</td>\n",
       "      <td>388.495325</td>\n",
       "      <td>602.027646</td>\n",
       "      <td>54.963936</td>\n",
       "    </tr>\n",
       "    <tr>\n",
       "      <th>12</th>\n",
       "      <td>5.026383</td>\n",
       "      <td>547.021836</td>\n",
       "      <td>834.924151</td>\n",
       "      <td>52.630863</td>\n",
       "    </tr>\n",
       "    <tr>\n",
       "      <th>13</th>\n",
       "      <td>17.811294</td>\n",
       "      <td>2986.627029</td>\n",
       "      <td>2858.073887</td>\n",
       "      <td>4.304292</td>\n",
       "    </tr>\n",
       "    <tr>\n",
       "      <th>14</th>\n",
       "      <td>7.099191</td>\n",
       "      <td>964.069826</td>\n",
       "      <td>1162.935881</td>\n",
       "      <td>20.627765</td>\n",
       "    </tr>\n",
       "  </tbody>\n",
       "</table>\n",
       "</div>"
      ],
      "text/plain": [
       "            x            y  y_predicted    % Error\n",
       "0   15.714920  2466.580358  2526.332866   2.422484\n",
       "1   24.149574  4072.712900  3861.075722   5.196467\n",
       "2    6.387675  1416.404874  1050.342005  25.844508\n",
       "3    0.447202   174.164638   110.291196  36.674174\n",
       "4   21.285228  4129.153452  3407.806928  17.469598\n",
       "5    7.493417  1349.247798  1225.320319   9.184931\n",
       "6   15.954273  3142.256097  2564.209299  18.395916\n",
       "7    2.629316   664.062759   455.600000  31.392027\n",
       "8    1.171127   722.266295   224.848753  68.868995\n",
       "9   18.363419  3107.174240  2945.444973   5.205027\n",
       "10   1.165132   181.163442   223.900002  23.590057\n",
       "11   3.554637   388.495325   602.027646  54.963936\n",
       "12   5.026383   547.021836   834.924151  52.630863\n",
       "13  17.811294  2986.627029  2858.073887   4.304292\n",
       "14   7.099191   964.069826  1162.935881  20.627765"
      ]
     },
     "execution_count": 13,
     "metadata": {},
     "output_type": "execute_result"
    }
   ],
   "source": [
    "data.head(15)"
   ]
  },
  {
   "cell_type": "markdown",
   "metadata": {},
   "source": [
    "## Plot Prediction line &  data"
   ]
  },
  {
   "cell_type": "code",
   "execution_count": 74,
   "metadata": {
    "collapsed": false,
    "deletable": true,
    "editable": true
   },
   "outputs": [
    {
     "data": {
      "image/png": "[encoded data removed]",
      "text/plain": [
       "<matplotlib.figure.Figure at 0xe5faa26a90>"
      ]
     },
     "metadata": {},
     "output_type": "display_data"
    }
   ],
   "source": [
    "plt.scatter(data['x'], data['y'], color='blue')\n",
    "plt.plot(data['x'], data['y_predicted'], color='green')\n",
    "plt.title('Results: Model & Input Data')\n",
    "plt.show()"
   ]
  },
  {
   "cell_type": "code",
   "execution_count": null,
   "metadata": {
    "collapsed": true
   },
   "outputs": [],
   "source": []
  }
 ],
 "metadata": {
  "kernelspec": {
   "display_name": "Python 3",
   "language": "python",
   "name": "python3"
  },
  "language_info": {
   "codemirror_mode": {
    "name": "ipython",
    "version": 3
   },
   "file_extension": ".py",
   "mimetype": "text/x-python",
   "name": "python",
   "nbconvert_exporter": "python",
   "pygments_lexer": "ipython3",
   "version": "3.5.3"
  }
 },
 "nbformat": 4,
 "nbformat_minor": 2
}
